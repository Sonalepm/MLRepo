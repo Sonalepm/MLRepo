{
 "cells": [
  {
   "cell_type": "markdown",
   "metadata": {},
   "source": [
    "# Logistic Regression : Fitting and model evaluation\n"
   ]
  },
  {
   "cell_type": "code",
   "execution_count": 2,
   "metadata": {},
   "outputs": [],
   "source": [
    "import pandas as pd\n",
    "from sklearn.linear_model import LogisticRegression\n",
    "from sklearn.model_selection import GridSearchCV\n",
    "import joblib\n",
    "import warnings\n",
    "#warnings.filterwarnings('ignore',category=FutureWarning)\n",
    "#warnings.filterwarnings('ignore',category=DeprecationWarning)"
   ]
  },
  {
   "cell_type": "code",
   "execution_count": 3,
   "metadata": {},
   "outputs": [],
   "source": [
    "train_features = pd.read_csv(r'/Users/sajeeshsubramanian/Desktop/Sonale/ML_repo/Ex_Files_Machine_Learning_Algorithms/Exercise Files/train_feat.csv')"
   ]
  },
  {
   "cell_type": "code",
   "execution_count": 9,
   "metadata": {},
   "outputs": [],
   "source": [
    "train_labels = pd.read_csv(r'/Users/sajeeshsubramanian/Desktop/Sonale/ML_repo/Ex_Files_Machine_Learning_Algorithms/Exercise Files/train_label.csv',header=None)"
   ]
  },
  {
   "cell_type": "code",
   "execution_count": 5,
   "metadata": {},
   "outputs": [],
   "source": [
    "#Tuning hyperparameters "
   ]
  },
  {
   "cell_type": "code",
   "execution_count": 15,
   "metadata": {},
   "outputs": [],
   "source": [
    "def print_results(results):\n",
    "    print(\"BEST PARAMS: {} \\n\".format(results.best_params_))\n",
    "    mean = results.cv_results_['mean_test_score']\n",
    "    std = results.cv_results_['std_test_score']\n",
    "    for m,s,params in zip(mean,std,results.cv_results_['params']):\n",
    "        print('{} (+ or - {}) for {}'.format(round(m,3),round(s*2,3),params))"
   ]
  },
  {
   "cell_type": "code",
   "execution_count": 16,
   "metadata": {},
   "outputs": [
    {
     "name": "stdout",
     "output_type": "stream",
     "text": [
      "BEST PARAMS: {'C': 1} \n",
      "\n",
      "0.678 (+ or - 0.092) for {'C': 0.001}\n",
      "0.704 (+ or - 0.099) for {'C': 0.01}\n",
      "0.796 (+ or - 0.13) for {'C': 0.1}\n",
      "0.798 (+ or - 0.123) for {'C': 1}\n",
      "0.794 (+ or - 0.118) for {'C': 10}\n",
      "0.794 (+ or - 0.118) for {'C': 100}\n",
      "0.794 (+ or - 0.118) for {'C': 1000}\n"
     ]
    }
   ],
   "source": [
    "lr = LogisticRegression()\n",
    "parameters = {\n",
    "    'C' : [0.001,0.01,0.1,1,10,100,1000]\n",
    "}\n",
    "cv = GridSearchCV(lr,parameters,cv=5)      # 5 fold cross validation\n",
    "cv.fit(train_features,train_labels.values.ravel()) # Convert labels to an array\n",
    "print_results(cv)"
   ]
  },
  {
   "cell_type": "code",
   "execution_count": 17,
   "metadata": {},
   "outputs": [
    {
     "data": {
      "text/plain": [
       "LogisticRegression(C=1, class_weight=None, dual=False, fit_intercept=True,\n",
       "                   intercept_scaling=1, l1_ratio=None, max_iter=100,\n",
       "                   multi_class='warn', n_jobs=None, penalty='l2',\n",
       "                   random_state=None, solver='warn', tol=0.0001, verbose=0,\n",
       "                   warm_start=False)"
      ]
     },
     "execution_count": 17,
     "metadata": {},
     "output_type": "execute_result"
    }
   ],
   "source": [
    "cv.best_estimator_"
   ]
  },
  {
   "cell_type": "markdown",
   "metadata": {},
   "source": [
    "# Save the pickled model"
   ]
  },
  {
   "cell_type": "code",
   "execution_count": 18,
   "metadata": {},
   "outputs": [
    {
     "data": {
      "text/plain": [
       "['/Users/sajeeshsubramanian/Desktop/Sonale/ML_repo/Ex_Files_Machine_Learning_Algorithms/Exercise Files/LogReg_model.pkl']"
      ]
     },
     "execution_count": 18,
     "metadata": {},
     "output_type": "execute_result"
    }
   ],
   "source": [
    "joblib.dump(cv.best_estimator_,'/Users/sajeeshsubramanian/Desktop/Sonale/ML_repo/Ex_Files_Machine_Learning_Algorithms/Exercise Files/LogReg_model.pkl')"
   ]
  }
 ],
 "metadata": {
  "kernelspec": {
   "display_name": "Python 3",
   "language": "python",
   "name": "python3"
  },
  "language_info": {
   "codemirror_mode": {
    "name": "ipython",
    "version": 3
   },
   "file_extension": ".py",
   "mimetype": "text/x-python",
   "name": "python",
   "nbconvert_exporter": "python",
   "pygments_lexer": "ipython3",
   "version": "3.7.4"
  }
 },
 "nbformat": 4,
 "nbformat_minor": 2
}
