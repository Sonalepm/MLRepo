{
 "cells": [
  {
   "cell_type": "code",
   "execution_count": 1,
   "metadata": {},
   "outputs": [
    {
     "name": "stderr",
     "output_type": "stream",
     "text": [
      "/opt/anaconda3/lib/python3.7/importlib/_bootstrap.py:219: RuntimeWarning: numpy.ufunc size changed, may indicate binary incompatibility. Expected 192 from C header, got 216 from PyObject\n",
      "  return f(*args, **kwds)\n",
      "/opt/anaconda3/lib/python3.7/importlib/_bootstrap.py:219: RuntimeWarning: numpy.ufunc size changed, may indicate binary incompatibility. Expected 192 from C header, got 216 from PyObject\n",
      "  return f(*args, **kwds)\n"
     ]
    }
   ],
   "source": [
    "import pandas as pd\n",
    "import numpy as np\n",
    "import joblib\n",
    "import warnings\n",
    "from sklearn.model_selection import GridSearchCV\n",
    "from sklearn.ensemble import GradientBoostingClassifier,GradientBoostingRegressor\n",
    "warnings.filterwarnings('ignore',category=FutureWarning)\n",
    "warnings.filterwarnings('ignore',category=DeprecationWarning)\n"
   ]
  },
  {
   "cell_type": "code",
   "execution_count": 2,
   "metadata": {},
   "outputs": [
    {
     "name": "stdout",
     "output_type": "stream",
     "text": [
      "GradientBoostingClassifier(criterion='friedman_mse', init=None,\n",
      "                           learning_rate=0.1, loss='deviance', max_depth=3,\n",
      "                           max_features=None, max_leaf_nodes=None,\n",
      "                           min_impurity_decrease=0.0, min_impurity_split=None,\n",
      "                           min_samples_leaf=1, min_samples_split=2,\n",
      "                           min_weight_fraction_leaf=0.0, n_estimators=100,\n",
      "                           n_iter_no_change=None, presort='auto',\n",
      "                           random_state=None, subsample=1.0, tol=0.0001,\n",
      "                           validation_fraction=0.1, verbose=0,\n",
      "                           warm_start=False)\n",
      "GradientBoostingRegressor(alpha=0.9, criterion='friedman_mse', init=None,\n",
      "                          learning_rate=0.1, loss='ls', max_depth=3,\n",
      "                          max_features=None, max_leaf_nodes=None,\n",
      "                          min_impurity_decrease=0.0, min_impurity_split=None,\n",
      "                          min_samples_leaf=1, min_samples_split=2,\n",
      "                          min_weight_fraction_leaf=0.0, n_estimators=100,\n",
      "                          n_iter_no_change=None, presort='auto',\n",
      "                          random_state=None, subsample=1.0, tol=0.0001,\n",
      "                          validation_fraction=0.1, verbose=0, warm_start=False)\n"
     ]
    }
   ],
   "source": [
    "print(GradientBoostingClassifier())\n",
    "print(GradientBoostingRegressor())"
   ]
  },
  {
   "cell_type": "code",
   "execution_count": 3,
   "metadata": {},
   "outputs": [],
   "source": [
    "train_features = pd.read_csv(r'/Users/sajeeshsubramanian/Desktop/Sonale/ML_repo/Ex_Files_Machine_Learning_Algorithms/Exercise Files/train_feat.csv')\n",
    "train_labels = pd.read_csv(r'/Users/sajeeshsubramanian/Desktop/Sonale/ML_repo/Ex_Files_Machine_Learning_Algorithms/Exercise Files/train_label.csv',header=None)"
   ]
  },
  {
   "cell_type": "code",
   "execution_count": 4,
   "metadata": {},
   "outputs": [],
   "source": [
    "#Tuning hyperparameters(n_estimators - width , max_depth - depth, learning rate)"
   ]
  },
  {
   "cell_type": "code",
   "execution_count": 5,
   "metadata": {},
   "outputs": [],
   "source": [
    "def print_results(results):\n",
    "    print(\"BEST PARAMS: {} \\n\".format(results.best_params_))\n",
    "    mean = results.cv_results_['mean_test_score']\n",
    "    std = results.cv_results_['std_test_score']\n",
    "    for m,s,params in zip(mean,std,results.cv_results_['params']):\n",
    "        print('{} (+ or - {}) for {}'.format(round(m,3),round(s*2,3),params))"
   ]
  },
  {
   "cell_type": "code",
   "execution_count": 6,
   "metadata": {},
   "outputs": [
    {
     "name": "stdout",
     "output_type": "stream",
     "text": [
      "BEST PARAMS: {'learning_rate': 0.01, 'max_depth': 3, 'n_estimators': 500} \n",
      "\n",
      "0.624 (+ or - 0.005) for {'learning_rate': 0.01, 'max_depth': 1, 'n_estimators': 5}\n",
      "0.796 (+ or - 0.116) for {'learning_rate': 0.01, 'max_depth': 1, 'n_estimators': 50}\n",
      "0.796 (+ or - 0.116) for {'learning_rate': 0.01, 'max_depth': 1, 'n_estimators': 250}\n",
      "0.811 (+ or - 0.118) for {'learning_rate': 0.01, 'max_depth': 1, 'n_estimators': 500}\n",
      "0.624 (+ or - 0.005) for {'learning_rate': 0.01, 'max_depth': 3, 'n_estimators': 5}\n",
      "0.811 (+ or - 0.071) for {'learning_rate': 0.01, 'max_depth': 3, 'n_estimators': 50}\n",
      "0.83 (+ or - 0.076) for {'learning_rate': 0.01, 'max_depth': 3, 'n_estimators': 250}\n",
      "0.841 (+ or - 0.079) for {'learning_rate': 0.01, 'max_depth': 3, 'n_estimators': 500}\n",
      "0.624 (+ or - 0.005) for {'learning_rate': 0.01, 'max_depth': 5, 'n_estimators': 5}\n",
      "0.82 (+ or - 0.052) for {'learning_rate': 0.01, 'max_depth': 5, 'n_estimators': 50}\n",
      "0.82 (+ or - 0.039) for {'learning_rate': 0.01, 'max_depth': 5, 'n_estimators': 250}\n",
      "0.828 (+ or - 0.027) for {'learning_rate': 0.01, 'max_depth': 5, 'n_estimators': 500}\n",
      "0.624 (+ or - 0.005) for {'learning_rate': 0.01, 'max_depth': 7, 'n_estimators': 5}\n",
      "0.818 (+ or - 0.054) for {'learning_rate': 0.01, 'max_depth': 7, 'n_estimators': 50}\n",
      "0.818 (+ or - 0.041) for {'learning_rate': 0.01, 'max_depth': 7, 'n_estimators': 250}\n",
      "0.8 (+ or - 0.01) for {'learning_rate': 0.01, 'max_depth': 7, 'n_estimators': 500}\n",
      "0.624 (+ or - 0.005) for {'learning_rate': 0.01, 'max_depth': 9, 'n_estimators': 5}\n",
      "0.803 (+ or - 0.06) for {'learning_rate': 0.01, 'max_depth': 9, 'n_estimators': 50}\n",
      "0.805 (+ or - 0.028) for {'learning_rate': 0.01, 'max_depth': 9, 'n_estimators': 250}\n",
      "0.779 (+ or - 0.033) for {'learning_rate': 0.01, 'max_depth': 9, 'n_estimators': 500}\n",
      "0.796 (+ or - 0.116) for {'learning_rate': 0.1, 'max_depth': 1, 'n_estimators': 5}\n",
      "0.815 (+ or - 0.12) for {'learning_rate': 0.1, 'max_depth': 1, 'n_estimators': 50}\n",
      "0.818 (+ or - 0.112) for {'learning_rate': 0.1, 'max_depth': 1, 'n_estimators': 250}\n",
      "0.828 (+ or - 0.093) for {'learning_rate': 0.1, 'max_depth': 1, 'n_estimators': 500}\n",
      "0.813 (+ or - 0.073) for {'learning_rate': 0.1, 'max_depth': 3, 'n_estimators': 5}\n",
      "0.835 (+ or - 0.082) for {'learning_rate': 0.1, 'max_depth': 3, 'n_estimators': 50}\n",
      "0.831 (+ or - 0.038) for {'learning_rate': 0.1, 'max_depth': 3, 'n_estimators': 250}\n",
      "0.811 (+ or - 0.03) for {'learning_rate': 0.1, 'max_depth': 3, 'n_estimators': 500}\n",
      "0.815 (+ or - 0.053) for {'learning_rate': 0.1, 'max_depth': 5, 'n_estimators': 5}\n",
      "0.822 (+ or - 0.013) for {'learning_rate': 0.1, 'max_depth': 5, 'n_estimators': 50}\n",
      "0.8 (+ or - 0.053) for {'learning_rate': 0.1, 'max_depth': 5, 'n_estimators': 250}\n",
      "0.803 (+ or - 0.041) for {'learning_rate': 0.1, 'max_depth': 5, 'n_estimators': 500}\n",
      "0.822 (+ or - 0.055) for {'learning_rate': 0.1, 'max_depth': 7, 'n_estimators': 5}\n",
      "0.8 (+ or - 0.009) for {'learning_rate': 0.1, 'max_depth': 7, 'n_estimators': 50}\n",
      "0.801 (+ or - 0.053) for {'learning_rate': 0.1, 'max_depth': 7, 'n_estimators': 250}\n",
      "0.801 (+ or - 0.036) for {'learning_rate': 0.1, 'max_depth': 7, 'n_estimators': 500}\n",
      "0.798 (+ or - 0.045) for {'learning_rate': 0.1, 'max_depth': 9, 'n_estimators': 5}\n",
      "0.787 (+ or - 0.032) for {'learning_rate': 0.1, 'max_depth': 9, 'n_estimators': 50}\n",
      "0.794 (+ or - 0.032) for {'learning_rate': 0.1, 'max_depth': 9, 'n_estimators': 250}\n",
      "0.79 (+ or - 0.046) for {'learning_rate': 0.1, 'max_depth': 9, 'n_estimators': 500}\n",
      "0.818 (+ or - 0.1) for {'learning_rate': 1, 'max_depth': 1, 'n_estimators': 5}\n",
      "0.83 (+ or - 0.078) for {'learning_rate': 1, 'max_depth': 1, 'n_estimators': 50}\n",
      "0.828 (+ or - 0.069) for {'learning_rate': 1, 'max_depth': 1, 'n_estimators': 250}\n",
      "0.818 (+ or - 0.082) for {'learning_rate': 1, 'max_depth': 1, 'n_estimators': 500}\n",
      "0.82 (+ or - 0.063) for {'learning_rate': 1, 'max_depth': 3, 'n_estimators': 5}\n",
      "0.8 (+ or - 0.027) for {'learning_rate': 1, 'max_depth': 3, 'n_estimators': 50}\n",
      "0.803 (+ or - 0.039) for {'learning_rate': 1, 'max_depth': 3, 'n_estimators': 250}\n",
      "0.801 (+ or - 0.04) for {'learning_rate': 1, 'max_depth': 3, 'n_estimators': 500}\n",
      "0.803 (+ or - 0.057) for {'learning_rate': 1, 'max_depth': 5, 'n_estimators': 5}\n",
      "0.801 (+ or - 0.055) for {'learning_rate': 1, 'max_depth': 5, 'n_estimators': 50}\n",
      "0.79 (+ or - 0.089) for {'learning_rate': 1, 'max_depth': 5, 'n_estimators': 250}\n",
      "0.803 (+ or - 0.081) for {'learning_rate': 1, 'max_depth': 5, 'n_estimators': 500}\n",
      "0.788 (+ or - 0.051) for {'learning_rate': 1, 'max_depth': 7, 'n_estimators': 5}\n",
      "0.798 (+ or - 0.024) for {'learning_rate': 1, 'max_depth': 7, 'n_estimators': 50}\n",
      "0.803 (+ or - 0.079) for {'learning_rate': 1, 'max_depth': 7, 'n_estimators': 250}\n",
      "0.801 (+ or - 0.064) for {'learning_rate': 1, 'max_depth': 7, 'n_estimators': 500}\n",
      "0.77 (+ or - 0.028) for {'learning_rate': 1, 'max_depth': 9, 'n_estimators': 5}\n",
      "0.794 (+ or - 0.05) for {'learning_rate': 1, 'max_depth': 9, 'n_estimators': 50}\n",
      "0.8 (+ or - 0.045) for {'learning_rate': 1, 'max_depth': 9, 'n_estimators': 250}\n",
      "0.792 (+ or - 0.032) for {'learning_rate': 1, 'max_depth': 9, 'n_estimators': 500}\n",
      "0.204 (+ or - 0.116) for {'learning_rate': 10, 'max_depth': 1, 'n_estimators': 5}\n",
      "0.204 (+ or - 0.116) for {'learning_rate': 10, 'max_depth': 1, 'n_estimators': 50}\n",
      "0.204 (+ or - 0.116) for {'learning_rate': 10, 'max_depth': 1, 'n_estimators': 250}\n",
      "0.204 (+ or - 0.116) for {'learning_rate': 10, 'max_depth': 1, 'n_estimators': 500}\n",
      "0.311 (+ or - 0.192) for {'learning_rate': 10, 'max_depth': 3, 'n_estimators': 5}\n",
      "0.311 (+ or - 0.192) for {'learning_rate': 10, 'max_depth': 3, 'n_estimators': 50}\n",
      "0.311 (+ or - 0.192) for {'learning_rate': 10, 'max_depth': 3, 'n_estimators': 250}\n",
      "0.311 (+ or - 0.192) for {'learning_rate': 10, 'max_depth': 3, 'n_estimators': 500}\n",
      "0.554 (+ or - 0.365) for {'learning_rate': 10, 'max_depth': 5, 'n_estimators': 5}\n",
      "0.504 (+ or - 0.365) for {'learning_rate': 10, 'max_depth': 5, 'n_estimators': 50}\n",
      "0.463 (+ or - 0.324) for {'learning_rate': 10, 'max_depth': 5, 'n_estimators': 250}\n",
      "0.403 (+ or - 0.212) for {'learning_rate': 10, 'max_depth': 5, 'n_estimators': 500}\n",
      "0.618 (+ or - 0.163) for {'learning_rate': 10, 'max_depth': 7, 'n_estimators': 5}\n",
      "0.603 (+ or - 0.125) for {'learning_rate': 10, 'max_depth': 7, 'n_estimators': 50}\n",
      "0.655 (+ or - 0.13) for {'learning_rate': 10, 'max_depth': 7, 'n_estimators': 250}\n",
      "0.61 (+ or - 0.185) for {'learning_rate': 10, 'max_depth': 7, 'n_estimators': 500}\n",
      "0.706 (+ or - 0.118) for {'learning_rate': 10, 'max_depth': 9, 'n_estimators': 5}\n",
      "0.723 (+ or - 0.135) for {'learning_rate': 10, 'max_depth': 9, 'n_estimators': 50}\n",
      "0.717 (+ or - 0.139) for {'learning_rate': 10, 'max_depth': 9, 'n_estimators': 250}\n",
      "0.723 (+ or - 0.15) for {'learning_rate': 10, 'max_depth': 9, 'n_estimators': 500}\n",
      "0.376 (+ or - 0.005) for {'learning_rate': 100, 'max_depth': 1, 'n_estimators': 5}\n",
      "0.376 (+ or - 0.005) for {'learning_rate': 100, 'max_depth': 1, 'n_estimators': 50}\n",
      "0.376 (+ or - 0.005) for {'learning_rate': 100, 'max_depth': 1, 'n_estimators': 250}\n",
      "0.376 (+ or - 0.005) for {'learning_rate': 100, 'max_depth': 1, 'n_estimators': 500}\n",
      "0.29 (+ or - 0.104) for {'learning_rate': 100, 'max_depth': 3, 'n_estimators': 5}\n",
      "0.29 (+ or - 0.104) for {'learning_rate': 100, 'max_depth': 3, 'n_estimators': 50}\n",
      "0.29 (+ or - 0.104) for {'learning_rate': 100, 'max_depth': 3, 'n_estimators': 250}\n",
      "0.29 (+ or - 0.104) for {'learning_rate': 100, 'max_depth': 3, 'n_estimators': 500}\n",
      "0.369 (+ or - 0.169) for {'learning_rate': 100, 'max_depth': 5, 'n_estimators': 5}\n",
      "0.361 (+ or - 0.168) for {'learning_rate': 100, 'max_depth': 5, 'n_estimators': 50}\n",
      "0.367 (+ or - 0.173) for {'learning_rate': 100, 'max_depth': 5, 'n_estimators': 250}\n",
      "0.376 (+ or - 0.186) for {'learning_rate': 100, 'max_depth': 5, 'n_estimators': 500}\n",
      "0.56 (+ or - 0.115) for {'learning_rate': 100, 'max_depth': 7, 'n_estimators': 5}\n",
      "0.599 (+ or - 0.083) for {'learning_rate': 100, 'max_depth': 7, 'n_estimators': 50}\n",
      "0.597 (+ or - 0.101) for {'learning_rate': 100, 'max_depth': 7, 'n_estimators': 250}\n",
      "0.586 (+ or - 0.093) for {'learning_rate': 100, 'max_depth': 7, 'n_estimators': 500}\n",
      "0.661 (+ or - 0.095) for {'learning_rate': 100, 'max_depth': 9, 'n_estimators': 5}\n",
      "0.676 (+ or - 0.085) for {'learning_rate': 100, 'max_depth': 9, 'n_estimators': 50}\n",
      "0.64 (+ or - 0.051) for {'learning_rate': 100, 'max_depth': 9, 'n_estimators': 250}\n",
      "0.661 (+ or - 0.063) for {'learning_rate': 100, 'max_depth': 9, 'n_estimators': 500}\n"
     ]
    }
   ],
   "source": [
    "gb = GradientBoostingClassifier()\n",
    "parameters = {\n",
    "    'n_estimators' : [5,50,250,500],    \n",
    "    'max_depth' : [1,3,5,7,9],   #decision stump. Usually shallower than RF\n",
    "    'learning_rate' : [0.01,0.1,1,10,100]\n",
    "}\n",
    "cv = GridSearchCV(gb,parameters,cv=5)      # 5 fold cross validation\n",
    "cv.fit(train_features,train_labels.values.ravel()) # Convert labels to an array\n",
    "print_results(cv)"
   ]
  },
  {
   "cell_type": "markdown",
   "metadata": {},
   "source": [
    "# Save the pickled model"
   ]
  },
  {
   "cell_type": "code",
   "execution_count": 7,
   "metadata": {},
   "outputs": [
    {
     "data": {
      "text/plain": [
       "['/Users/sajeeshsubramanian/Desktop/Sonale/ML_repo/Ex_Files_Machine_Learning_Algorithms/Exercise Files/gb_model.pkl']"
      ]
     },
     "execution_count": 7,
     "metadata": {},
     "output_type": "execute_result"
    }
   ],
   "source": [
    "joblib.dump(cv.best_estimator_,'/Users/sajeeshsubramanian/Desktop/Sonale/ML_repo/Ex_Files_Machine_Learning_Algorithms/Exercise Files/gb_model.pkl')"
   ]
  }
 ],
 "metadata": {
  "kernelspec": {
   "display_name": "Python 3",
   "language": "python",
   "name": "python3"
  },
  "language_info": {
   "codemirror_mode": {
    "name": "ipython",
    "version": 3
   },
   "file_extension": ".py",
   "mimetype": "text/x-python",
   "name": "python",
   "nbconvert_exporter": "python",
   "pygments_lexer": "ipython3",
   "version": "3.7.4"
  }
 },
 "nbformat": 4,
 "nbformat_minor": 2
}
