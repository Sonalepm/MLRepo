{
 "cells": [
  {
   "cell_type": "code",
   "execution_count": 9,
   "metadata": {},
   "outputs": [],
   "source": [
    "import pandas as pd\n",
    "import numpy as np\n",
    "import joblib\n",
    "from sklearn.ensemble import RandomForestClassifier,RandomForestRegressor\n",
    "import warnings\n",
    "warnings.filterwarnings('ignore',category=FutureWarning)\n",
    "warnings.filterwarnings('ignore',category=DeprecationWarning)\n",
    "from sklearn.model_selection import GridSearchCV"
   ]
  },
  {
   "cell_type": "code",
   "execution_count": 2,
   "metadata": {},
   "outputs": [
    {
     "name": "stdout",
     "output_type": "stream",
     "text": [
      "RandomForestClassifier(bootstrap=True, class_weight=None, criterion='gini',\n",
      "                       max_depth=None, max_features='auto', max_leaf_nodes=None,\n",
      "                       min_impurity_decrease=0.0, min_impurity_split=None,\n",
      "                       min_samples_leaf=1, min_samples_split=2,\n",
      "                       min_weight_fraction_leaf=0.0, n_estimators='warn',\n",
      "                       n_jobs=None, oob_score=False, random_state=None,\n",
      "                       verbose=0, warm_start=False)\n"
     ]
    }
   ],
   "source": [
    "print(RandomForestClassifier())"
   ]
  },
  {
   "cell_type": "code",
   "execution_count": 3,
   "metadata": {},
   "outputs": [
    {
     "name": "stdout",
     "output_type": "stream",
     "text": [
      "RandomForestRegressor(bootstrap=True, criterion='mse', max_depth=None,\n",
      "                      max_features='auto', max_leaf_nodes=None,\n",
      "                      min_impurity_decrease=0.0, min_impurity_split=None,\n",
      "                      min_samples_leaf=1, min_samples_split=2,\n",
      "                      min_weight_fraction_leaf=0.0, n_estimators='warn',\n",
      "                      n_jobs=None, oob_score=False, random_state=None,\n",
      "                      verbose=0, warm_start=False)\n"
     ]
    }
   ],
   "source": [
    "print(RandomForestRegressor())"
   ]
  },
  {
   "cell_type": "code",
   "execution_count": 4,
   "metadata": {},
   "outputs": [],
   "source": [
    "train_features = pd.read_csv(r'/Users/sajeeshsubramanian/Desktop/Sonale/ML_repo/Ex_Files_Machine_Learning_Algorithms/Exercise Files/train_feat.csv')\n",
    "train_labels = pd.read_csv(r'/Users/sajeeshsubramanian/Desktop/Sonale/ML_repo/Ex_Files_Machine_Learning_Algorithms/Exercise Files/train_label.csv',header=None)"
   ]
  },
  {
   "cell_type": "code",
   "execution_count": 5,
   "metadata": {},
   "outputs": [],
   "source": [
    "#Tuning hyperparameters(n_estimators - width and max_depth - depth)"
   ]
  },
  {
   "cell_type": "code",
   "execution_count": 6,
   "metadata": {},
   "outputs": [],
   "source": [
    "def print_results(results):\n",
    "    print(\"BEST PARAMS: {} \\n\".format(results.best_params_))\n",
    "    mean = results.cv_results_['mean_test_score']\n",
    "    std = results.cv_results_['std_test_score']\n",
    "    for m,s,params in zip(mean,std,results.cv_results_['params']):\n",
    "        print('{} (+ or - {}) for {}'.format(round(m,3),round(s*2,3),params))"
   ]
  },
  {
   "cell_type": "code",
   "execution_count": 10,
   "metadata": {},
   "outputs": [
    {
     "name": "stdout",
     "output_type": "stream",
     "text": [
      "BEST PARAMS: {'max_depth': 4, 'n_estimators': 5} \n",
      "\n",
      "0.773 (+ or - 0.136) for {'max_depth': 2, 'n_estimators': 5}\n",
      "0.801 (+ or - 0.104) for {'max_depth': 2, 'n_estimators': 50}\n",
      "0.803 (+ or - 0.105) for {'max_depth': 2, 'n_estimators': 250}\n",
      "0.824 (+ or - 0.074) for {'max_depth': 4, 'n_estimators': 5}\n",
      "0.816 (+ or - 0.133) for {'max_depth': 4, 'n_estimators': 50}\n",
      "0.824 (+ or - 0.109) for {'max_depth': 4, 'n_estimators': 250}\n",
      "0.801 (+ or - 0.076) for {'max_depth': 8, 'n_estimators': 5}\n",
      "0.824 (+ or - 0.07) for {'max_depth': 8, 'n_estimators': 50}\n",
      "0.82 (+ or - 0.064) for {'max_depth': 8, 'n_estimators': 250}\n",
      "0.807 (+ or - 0.045) for {'max_depth': 16, 'n_estimators': 5}\n",
      "0.813 (+ or - 0.043) for {'max_depth': 16, 'n_estimators': 50}\n",
      "0.809 (+ or - 0.03) for {'max_depth': 16, 'n_estimators': 250}\n",
      "0.815 (+ or - 0.046) for {'max_depth': 32, 'n_estimators': 5}\n",
      "0.818 (+ or - 0.035) for {'max_depth': 32, 'n_estimators': 50}\n",
      "0.811 (+ or - 0.034) for {'max_depth': 32, 'n_estimators': 250}\n",
      "0.792 (+ or - 0.032) for {'max_depth': None, 'n_estimators': 5}\n",
      "0.815 (+ or - 0.041) for {'max_depth': None, 'n_estimators': 50}\n",
      "0.809 (+ or - 0.034) for {'max_depth': None, 'n_estimators': 250}\n"
     ]
    }
   ],
   "source": [
    "rf = RandomForestClassifier()\n",
    "parameters = {\n",
    "    'n_estimators' : [5,50,250],    \n",
    "    'max_depth' : [2,4,8,16,32,None]\n",
    "}\n",
    "cv = GridSearchCV(rf,parameters,cv=5)      # 5 fold cross validation\n",
    "cv.fit(train_features,train_labels.values.ravel()) # Convert labels to an array\n",
    "print_results(cv)"
   ]
  },
  {
   "cell_type": "code",
   "execution_count": 11,
   "metadata": {},
   "outputs": [
    {
     "data": {
      "text/plain": [
       "RandomForestClassifier(bootstrap=True, class_weight=None, criterion='gini',\n",
       "                       max_depth=4, max_features='auto', max_leaf_nodes=None,\n",
       "                       min_impurity_decrease=0.0, min_impurity_split=None,\n",
       "                       min_samples_leaf=1, min_samples_split=2,\n",
       "                       min_weight_fraction_leaf=0.0, n_estimators=5,\n",
       "                       n_jobs=None, oob_score=False, random_state=None,\n",
       "                       verbose=0, warm_start=False)"
      ]
     },
     "execution_count": 11,
     "metadata": {},
     "output_type": "execute_result"
    }
   ],
   "source": [
    "cv.best_estimator_"
   ]
  },
  {
   "cell_type": "markdown",
   "metadata": {},
   "source": [
    "# Save the pickled model"
   ]
  },
  {
   "cell_type": "code",
   "execution_count": 12,
   "metadata": {},
   "outputs": [
    {
     "data": {
      "text/plain": [
       "['/Users/sajeeshsubramanian/Desktop/Sonale/ML_repo/Ex_Files_Machine_Learning_Algorithms/Exercise Files/rf_model.pkl']"
      ]
     },
     "execution_count": 12,
     "metadata": {},
     "output_type": "execute_result"
    }
   ],
   "source": [
    "joblib.dump(cv.best_estimator_,'/Users/sajeeshsubramanian/Desktop/Sonale/ML_repo/Ex_Files_Machine_Learning_Algorithms/Exercise Files/rf_model.pkl')"
   ]
  }
 ],
 "metadata": {
  "kernelspec": {
   "display_name": "Python 3",
   "language": "python",
   "name": "python3"
  },
  "language_info": {
   "codemirror_mode": {
    "name": "ipython",
    "version": 3
   },
   "file_extension": ".py",
   "mimetype": "text/x-python",
   "name": "python",
   "nbconvert_exporter": "python",
   "pygments_lexer": "ipython3",
   "version": "3.7.4"
  }
 },
 "nbformat": 4,
 "nbformat_minor": 2
}
